{
 "cells": [
  {
   "cell_type": "code",
   "id": "initial_id",
   "metadata": {
    "collapsed": true,
    "ExecuteTime": {
     "end_time": "2024-07-20T15:24:51.870407Z",
     "start_time": "2024-07-20T15:24:51.806841Z"
    }
   },
   "source": "import numpy as np",
   "outputs": [],
   "execution_count": 1
  },
  {
   "metadata": {
    "ExecuteTime": {
     "end_time": "2024-07-20T15:24:52.412253Z",
     "start_time": "2024-07-20T15:24:52.408781Z"
    }
   },
   "cell_type": "code",
   "source": [
    "class Parameters:\n",
    "    def __init__(self, size, goal_state, rewards, gamma):\n",
    "        self.size = size\n",
    "        self.goal_state = goal_state\n",
    "        self.rewards = rewards\n",
    "        self.gamma = gamma"
   ],
   "id": "a7066f2befca1326",
   "outputs": [],
   "execution_count": 2
  },
  {
   "metadata": {
    "ExecuteTime": {
     "end_time": "2024-07-20T15:24:53.079941Z",
     "start_time": "2024-07-20T15:24:53.074844Z"
    }
   },
   "cell_type": "code",
   "source": [
    "class Environment:\n",
    "    def __init__(self, size, goal_state, rewards):\n",
    "        self.size = size\n",
    "        self.goal_state = goal_state\n",
    "        self.rewards = rewards\n",
    "        self.actions = ['up', 'down', 'left', 'right']\n",
    "        self.initial_state = 0  # assuming the initial state is 0\n",
    "\n",
    "    def reset(self):\n",
    "        return self.initial_state\n",
    "\n",
    "    def step(self, state, action):\n",
    "        next_state = self.get_next_state(state, action)\n",
    "        reward = self.get_reward(next_state)\n",
    "        done = next_state == self.goal_state\n",
    "        return next_state, reward, done\n",
    "\n",
    "    def get_next_state(self, state, action):\n",
    "        row, col = divmod(state, self.size[1])\n",
    "        if action == 'up':\n",
    "            row = max(row - 1, 0)\n",
    "        elif action == 'down':\n",
    "            row = min(row + 1, self.size[0] - 1)\n",
    "        elif action == 'left':\n",
    "            col = max(col - 1, 0)\n",
    "        elif action == 'right':\n",
    "            col = min(col + 1, self.size[1] - 1)\n",
    "        return row * self.size[1] + col\n",
    "\n",
    "    def get_next_states(self, state):\n",
    "        next_states = []\n",
    "        for action in self.actions:\n",
    "            next_state = self.get_next_state(state, action)\n",
    "            next_states.append(next_state)\n",
    "        return next_states\n",
    "\n",
    "    def get_reward(self, state):\n",
    "        return self.rewards.get(state, -1)"
   ],
   "id": "435cc6129bd90f9e",
   "outputs": [],
   "execution_count": 3
  },
  {
   "metadata": {
    "ExecuteTime": {
     "end_time": "2024-07-20T15:24:54.003971Z",
     "start_time": "2024-07-20T15:24:53.991144Z"
    }
   },
   "cell_type": "code",
   "source": [
    "class MonteCarloESAgent:\n",
    "    def __init__(self, environment, gamma=0.9, epsilon=0.1, alpha=0.1):\n",
    "        self.environment = environment\n",
    "        self.gamma = gamma\n",
    "        self.epsilon = epsilon\n",
    "        self.alpha = alpha\n",
    "        self.policy = np.zeros(environment.size[0] * environment.size[1], dtype=int)\n",
    "        self.state_values = np.zeros(environment.size[0] * environment.size[1])\n",
    "        self.returns = {state: [] for state in range(environment.size[0] * environment.size[1])}\n",
    "        self.initialize_policy()\n",
    "\n",
    "    def initialize_policy(self):\n",
    "        for state in range(self.environment.size[0] * self.environment.size[1]):\n",
    "            self.policy[state] = np.random.choice(range(len(self.environment.actions)))\n",
    "\n",
    "    def select_action(self, state):\n",
    "        if np.random.rand() < self.epsilon:\n",
    "            return np.random.choice(self.environment.actions)\n",
    "        else:\n",
    "            return self.environment.actions[self.policy[state]]\n",
    "\n",
    "    def generate_episode(self, max_steps=100):\n",
    "        state = self.environment.reset()\n",
    "        episode = []\n",
    "        steps = 0\n",
    "        while steps < max_steps:\n",
    "            action = self.select_action(state)\n",
    "            next_state, reward, done = self.environment.step(state, action)\n",
    "            episode.append((state, action, reward, next_state, done))\n",
    "            if done:\n",
    "                break\n",
    "            state = next_state\n",
    "            steps += 1\n",
    "        return episode\n",
    "\n",
    "    def monte_carlo_es(self, episodes=20):\n",
    "        for i in range(episodes):\n",
    "            print(f\"Generating episode {i+1}...\")\n",
    "            episode = self.generate_episode()\n",
    "            G = 0\n",
    "            for t in range(len(episode) - 1, -1, -1):\n",
    "                state, action, reward, next_state, done = episode[t]\n",
    "                G = self.gamma * G + reward\n",
    "                self.returns[state].append(G)\n",
    "                self.state_values[state] = self.state_values[state] + self.alpha * (G - self.state_values[state])\n",
    "                if np.random.rand() < self.epsilon:\n",
    "                    self.policy[state] = np.random.choice(range(len(self.environment.actions)))\n",
    "                else:\n",
    "                    self.policy[state] = np.argmax([self.state_values[next_state] for next_state in self.environment.get_next_states(state)])\n",
    "\n",
    "    def find_best_path_for_goal(self, start_state):\n",
    "        path = []\n",
    "        current_state = start_state\n",
    "        while current_state != self.environment.goal_state:\n",
    "            path.append(current_state)\n",
    "            current_action = self.policy[current_state]\n",
    "            current_state = self.environment.get_next_state(current_state, current_action)\n",
    "        path.append(self.environment.goal_state)\n",
    "        return path"
   ],
   "id": "e10f6ea5db34920d",
   "outputs": [],
   "execution_count": 4
  },
  {
   "metadata": {
    "jupyter": {
     "is_executing": true
    },
    "ExecuteTime": {
     "start_time": "2024-07-20T15:24:55.883232Z"
    }
   },
   "cell_type": "code",
   "source": [
    "param = Parameters((3, 3), 8, {8: 10, 3: -5}, 1.0)\n",
    "environment = Environment(param.size, param.goal_state, param.rewards)\n",
    "\n",
    "monte_carlo_agent = MonteCarloESAgent(environment, gamma=0.9)\n",
    "monte_carlo_agent.monte_carlo_es(episodes=1)\n",
    "\n",
    "print(\"Valeurs des états (Monte Carlo ES Agent):\")\n",
    "print(monte_carlo_agent.state_values.reshape(param.size))\n",
    "print(\"\\nPolitique (Monte Carlo Agent):\")\n",
    "for row in range(param.size[0]):\n",
    "    for col in range(param.size[1]):\n",
    "        state = row * param.size[1] + col\n",
    "        if state == param.goal_state:\n",
    "            print(\" G \", end=\" \")\n",
    "        else:\n",
    "            print(monte_carlo_agent.policy[state], end=\" \")\n",
    "    print()\n",
    "\n",
    "start_state = 0\n",
    "best_path = monte_carlo_agent.find_best_path_for_goal(start_state)\n",
    "print(\"\\nMeilleur chemin (Monte Carlo ES Agent) de l'état 0 à l'objectif:\")\n",
    "print(best_path)"
   ],
   "id": "b433ca1afbf81851",
   "outputs": [
    {
     "name": "stdout",
     "output_type": "stream",
     "text": [
      "Generating episode 1...\n",
      "Valeurs des états (Monte Carlo ES Agent):\n",
      "[[-13.76517217  -3.08894624   0.        ]\n",
      " [-15.32275925   0.           0.        ]\n",
      " [-15.91535596   0.           0.        ]]\n",
      "\n",
      "Politique (Monte Carlo Agent):\n",
      "3 1 0 \n",
      "3 0 0 \n",
      "3 3  G  \n"
     ]
    }
   ],
   "execution_count": null
  },
  {
   "metadata": {},
   "cell_type": "code",
   "outputs": [],
   "execution_count": null,
   "source": "",
   "id": "ff168c702b61f118"
  }
 ],
 "metadata": {
  "kernelspec": {
   "display_name": "Python 3",
   "language": "python",
   "name": "python3"
  },
  "language_info": {
   "codemirror_mode": {
    "name": "ipython",
    "version": 2
   },
   "file_extension": ".py",
   "mimetype": "text/x-python",
   "name": "python",
   "nbconvert_exporter": "python",
   "pygments_lexer": "ipython2",
   "version": "2.7.6"
  }
 },
 "nbformat": 4,
 "nbformat_minor": 5
}
