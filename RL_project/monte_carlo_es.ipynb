{
 "cells": [
  {
   "cell_type": "code",
   "id": "initial_id",
   "metadata": {
    "collapsed": true,
    "ExecuteTime": {
     "end_time": "2024-07-21T16:42:17.074797Z",
     "start_time": "2024-07-21T16:42:17.072763Z"
    }
   },
   "source": [
    "import random\n",
    "import numpy as np"
   ],
   "outputs": [],
   "execution_count": 129
  },
  {
   "metadata": {
    "ExecuteTime": {
     "end_time": "2024-07-21T16:42:17.083600Z",
     "start_time": "2024-07-21T16:42:17.079292Z"
    }
   },
   "cell_type": "code",
   "source": [
    "class Environment:\n",
    "    def __init__(self, size, goal_state, rewards):\n",
    "        self.size = size\n",
    "        self.goal_state = goal_state\n",
    "        self.rewards = rewards\n",
    "        self.actions = ['up', 'down', 'left', 'right']\n",
    "        self.action_space = len(self.actions)\n",
    "        self.current_state = 0\n",
    "\n",
    "    def reset(self):\n",
    "        self.current_state = 0\n",
    "        return self.current_state\n",
    "\n",
    "    def get_next_state(self, state, action):\n",
    "        row, col = divmod(state, self.size[1])\n",
    "        if action == 'up':\n",
    "            row = max(row - 1, 0)\n",
    "        elif action == 'down':\n",
    "            row = min(row + 1, self.size[0] - 1)\n",
    "        elif action == 'left':\n",
    "            col = max(col - 1, 0)\n",
    "        elif action == 'right':\n",
    "            col = min(col + 1, self.size[1] - 1)\n",
    "        return row * self.size[1] + col\n",
    "\n",
    "    def get_reward(self, state):\n",
    "        return self.rewards.get(state, -1)\n",
    "    \n",
    "    def step(self, action):\n",
    "        next_state = self.get_next_state(self.current_state, action)\n",
    "        reward = self.get_reward(next_state)\n",
    "        done = self.is_done(next_state)\n",
    "        self.current_state = next_state\n",
    "        return next_state, reward, done, {}\n",
    "    \n",
    "    def is_done(self, state):\n",
    "        return state == self.goal_state"
   ],
   "id": "63ad574b03acf0a1",
   "outputs": [],
   "execution_count": 130
  },
  {
   "metadata": {
    "ExecuteTime": {
     "end_time": "2024-07-21T16:42:17.087314Z",
     "start_time": "2024-07-21T16:42:17.085286Z"
    }
   },
   "cell_type": "code",
   "source": [
    "class Parameters:\n",
    "    def __init__(self, size, goal_state, rewards, gamma):\n",
    "        self.size = size\n",
    "        self.goal_state = goal_state\n",
    "        self.rewards = rewards\n",
    "        self.gamma = gamma"
   ],
   "id": "40e54698e349ae0c",
   "outputs": [],
   "execution_count": 131
  },
  {
   "metadata": {
    "ExecuteTime": {
     "end_time": "2024-07-21T16:42:17.096151Z",
     "start_time": "2024-07-21T16:42:17.088347Z"
    }
   },
   "cell_type": "code",
   "source": [
    "class MonteCarloESAgent:\n",
    "    def __init__(self, environment, gamma=0.9, epsilon=0.1, alpha=0.1):\n",
    "        self.environment = environment\n",
    "        self.gamma = gamma\n",
    "        self.epsilon = epsilon\n",
    "        self.alpha = alpha\n",
    "        self.policy = np.random.choice(environment.action_space, size=np.prod(environment.size))\n",
    "        self.state_action_values = np.zeros((np.prod(environment.size), environment.action_space))\n",
    "        self.returns = {(state, action): [] for state in range(np.prod(environment.size)) for action in range(environment.action_space)}\n",
    "        self.initialize_policy()\n",
    "\n",
    "    def initialize_policy(self):\n",
    "        for state in range(np.prod(self.environment.size)):\n",
    "            self.policy[state] = np.random.choice(self.environment.action_space)\n",
    "\n",
    "    def select_action(self, state):\n",
    "        if np.random.rand() < self.epsilon:\n",
    "            return np.random.choice(self.environment.action_space)\n",
    "        else:\n",
    "            return np.argmax(self.state_action_values[state])\n",
    "\n",
    "    def generate_episode(self, start_state=None, start_action=None, max_steps=100):\n",
    "        episode = []\n",
    "        state = start_state if start_state is not None else self.environment.reset()\n",
    "        action = start_action if start_action is not None else self.select_action(state)\n",
    "        \n",
    "        for _ in range(max_steps):\n",
    "            next_state, reward, done, _ = self.environment.step(self.environment.actions[action])\n",
    "            episode.append((state, action, reward))\n",
    "            if done:\n",
    "                break\n",
    "            state = next_state\n",
    "            action = self.select_action(state)\n",
    "        \n",
    "        return episode\n",
    "\n",
    "    def monte_carlo_es(self, episodes=20):\n",
    "        for _ in range(episodes):\n",
    "            start_state = np.random.choice(np.prod(self.environment.size))\n",
    "            start_action = np.random.choice(self.environment.action_space)\n",
    "            episode = self.generate_episode(start_state, start_action)\n",
    "            G = 0\n",
    "            for t in reversed(range(len(episode))):\n",
    "                state, action, reward = episode[t]\n",
    "                G = self.gamma * G + reward\n",
    "                if not (state, action) in [(x[0], x[1]) for x in episode[:t]]:\n",
    "                    self.returns[(state, action)].append(G)\n",
    "                    self.state_action_values[state][action] = np.mean(self.returns[(state, action)])\n",
    "                    self.policy[state] = np.argmax(self.state_action_values[state])\n",
    "\n",
    "    def find_best_path_for_goal(self, start_state):\n",
    "        state = start_state\n",
    "        path = [state]\n",
    "        action_map = {0: 'up', 1: 'down', 2: 'left', 3: 'right'}\n",
    "        while True:\n",
    "            action_idx = self.policy[state]\n",
    "            action = action_map[action_idx]\n",
    "            next_state, reward, done, _ = self.environment.step(action)\n",
    "            path.append(next_state)\n",
    "            if done:\n",
    "                break\n",
    "            state = next_state\n",
    "        return path"
   ],
   "id": "990ab5749feea96a",
   "outputs": [],
   "execution_count": 132
  },
  {
   "metadata": {
    "ExecuteTime": {
     "end_time": "2024-07-21T16:42:17.105801Z",
     "start_time": "2024-07-21T16:42:17.097628Z"
    }
   },
   "cell_type": "code",
   "source": [
    "param = Parameters((3, 3), 8, {8: 10, 3: -5}, 0.9)\n",
    "environment = Environment(param.size, param.goal_state, param.rewards)\n",
    "agent = MonteCarloESAgent(environment, param.gamma)\n",
    "\n",
    "agent.monte_carlo_es()\n",
    "\n",
    "print(\"State Values:\")\n",
    "print(agent.state_action_values.max(axis=1).reshape(param.size))\n",
    "print(\"\\nPolicy:\")\n",
    "for row in range(param.size[0]):\n",
    "    for col in range(param.size[1]):\n",
    "        state = row * param.size[1] + col\n",
    "        if state == param.goal_state:\n",
    "            print(\" G \", end=\" \")\n",
    "        else:\n",
    "            action_idx = agent.policy[state]\n",
    "            print(environment.actions[action_idx], end=\" \")\n",
    "    print()\n",
    "\n",
    "start_state = 0\n",
    "best_path = agent.find_best_path_for_goal(start_state)\n",
    "print(\"\\nBest Path from state 0 to goal:\")\n",
    "print(best_path)"
   ],
   "id": "b433ca1afbf81851",
   "outputs": [
    {
     "name": "stdout",
     "output_type": "stream",
     "text": [
      "State Values:\n",
      "[[-5.81165954 -0.93034295 -2.42521805]\n",
      " [-1.08098489 -0.96465175 10.        ]\n",
      " [-3.55891088 10.          0.        ]]\n",
      "\n",
      "Policy:\n",
      "up up right \n",
      "up right down \n",
      "down right  G  \n",
      "\n",
      "Best Path from state 0 to goal:\n",
      "[0, 5, 8]\n"
     ]
    }
   ],
   "execution_count": 133
  }
 ],
 "metadata": {
  "kernelspec": {
   "display_name": "Python 3",
   "language": "python",
   "name": "python3"
  },
  "language_info": {
   "codemirror_mode": {
    "name": "ipython",
    "version": 2
   },
   "file_extension": ".py",
   "mimetype": "text/x-python",
   "name": "python",
   "nbconvert_exporter": "python",
   "pygments_lexer": "ipython2",
   "version": "2.7.6"
  }
 },
 "nbformat": 4,
 "nbformat_minor": 5
}
