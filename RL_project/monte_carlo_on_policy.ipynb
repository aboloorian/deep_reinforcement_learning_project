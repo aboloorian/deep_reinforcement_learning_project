{
 "cells": [
  {
   "cell_type": "code",
   "id": "initial_id",
   "metadata": {
    "collapsed": true,
    "ExecuteTime": {
     "end_time": "2024-07-21T10:14:33.638557Z",
     "start_time": "2024-07-21T10:14:33.634256Z"
    }
   },
   "source": [
    "import random\n",
    "import numpy as np\n",
    "from RL.Parameters import *\n",
    "from RL.Environment import *"
   ],
   "outputs": [],
   "execution_count": 49
  },
  {
   "metadata": {
    "ExecuteTime": {
     "end_time": "2024-07-21T10:14:41.922181Z",
     "start_time": "2024-07-21T10:14:33.670418Z"
    }
   },
   "cell_type": "code",
   "source": [
    "class MonteCarloOnPolicyAgent:\n",
    "    def __init__(self, environment, gamma=0.9, epsilon=0.1):\n",
    "        self.environment = environment\n",
    "        self.gamma = gamma\n",
    "        self.epsilon = epsilon\n",
    "        self.policy = np.zeros(np.prod(environment.size), dtype=int)\n",
    "        self.q_values = np.zeros((np.prod(environment.size), len(environment.actions)))\n",
    "        self.returns = {(state, action): [] for state in range(np.prod(environment.size)) for action in environment.actions}\n",
    "        self.initialize_policy()\n",
    "\n",
    "    def initialize_policy(self):\n",
    "        for state in range(np.prod(self.environment.size)):\n",
    "            self.policy[state] = np.random.choice(range(len(self.environment.actions)))\n",
    "\n",
    "    def select_action(self, state):\n",
    "        if np.random.rand() < self.epsilon:\n",
    "            return np.random.choice(self.environment.actions)\n",
    "        else:\n",
    "            return self.environment.actions[self.policy[state]]\n",
    "\n",
    "    def generate_episode(self, max_steps=100):\n",
    "        state = self.environment.reset()\n",
    "        episode = []\n",
    "        steps = 0\n",
    "        while steps < max_steps:\n",
    "            action = self.select_action(state)\n",
    "            next_state, reward, done = self.environment.step(state, action)\n",
    "            episode.append((state, action, reward, next_state, done))\n",
    "            if done:\n",
    "                break\n",
    "            state = next_state\n",
    "            steps += 1\n",
    "        return episode\n",
    "\n",
    "    def monte_carlo_on_policy(self, episodes=20):\n",
    "        for i in range(episodes):\n",
    "            print(f\"Generating episode {i+1}...\")\n",
    "            episode = self.generate_episode()\n",
    "            G = 0\n",
    "            for t in range(len(episode) - 1, -1, -1):\n",
    "                state, action, reward, next_state, done = episode[t]\n",
    "                action_index = self.environment.actions.index(action)\n",
    "                G = self.gamma * G + reward\n",
    "                if not any([(state == x[0] and action == x[1]) for x in episode[:t]]):\n",
    "                    self.returns[(state, action)].append(G)\n",
    "                    self.q_values[state, action_index] = np.mean(self.returns[(state, action)])\n",
    "                    best_action = np.argmax(self.q_values[state])\n",
    "                    for a in range(len(self.environment.actions)):\n",
    "                        if a == best_action:\n",
    "                            self.policy[state] = a\n",
    "                        else:\n",
    "                            self.policy[state] = np.random.choice(range(len(self.environment.actions)))\n",
    "\n",
    "    def find_best_path_for_goal(self, start_state):\n",
    "        path = []\n",
    "        current_state = start_state\n",
    "        while current_state != self.environment.goal_state:\n",
    "            path.append(current_state)\n",
    "            current_action = self.policy[current_state]\n",
    "            current_state = self.environment.get_next_state(current_state, self.environment.actions[current_action])\n",
    "        path.append(self.environment.goal_state)\n",
    "        return path"
   ],
   "id": "e10f6ea5db34920d",
   "outputs": [],
   "execution_count": 53
  },
  {
   "metadata": {
    "jupyter": {
     "is_executing": true
    },
    "ExecuteTime": {
     "start_time": "2024-07-21T10:14:41.928370Z"
    }
   },
   "cell_type": "code",
   "source": [
    "# Liste des environnements : LineWorld, GridWorld, TwoRoundRockPaperScissors, MontyHallLevel1, MontyHallLevel2\n",
    "env_name = 'LineWorld' \n",
    "print(\"Algorithme choisi : Monte Carlo On Policy Agent\")\n",
    "print(\"Environnement choisi :\", env_name)\n",
    "\n",
    "param = Parameters(env_name)\n",
    "environment = Environment(param.size, param.goal_state, param.rewards)\n",
    "\n",
    "monte_carlo_agent = MonteCarloOnPolicyAgent(environment, gamma=0.9)\n",
    "monte_carlo_agent.monte_carlo_on_policy(episodes=1)\n",
    "\n",
    "print(\"Valeurs des états (Monte Carlo On Policy Agent):\")\n",
    "state_values = np.max(monte_carlo_agent.q_values, axis=1)\n",
    "print(state_values.reshape(param.size))\n",
    "\n",
    "print(\"\\nPolitique (Monte Carlo On Policy Agent):\")\n",
    "if len(param.size) == 1:\n",
    "    for state in range(param.size[0]):\n",
    "        if state == param.goal_state:\n",
    "            print(\" G \", end=\" \")\n",
    "        else:\n",
    "            print(monte_carlo_agent.policy[state], end=\" \")\n",
    "    print()\n",
    "else:\n",
    "    for row in range(param.size[0]):\n",
    "        for col in range(param.size[1]):\n",
    "            state = row * param.size[1] + col\n",
    "            if state == param.goal_state:\n",
    "                print(\" G \", end=\" \")\n",
    "            else:\n",
    "                print(monte_carlo_agent.policy[state], end=\" \")\n",
    "        print()\n",
    "\n",
    "start_state = 0\n",
    "best_path = monte_carlo_agent.find_best_path_for_goal(start_state)\n",
    "print(\"\\nMeilleur chemin (Monte Carlo On Policy Agent) de l'état 0 à l'objectif:\")\n",
    "print(best_path)"
   ],
   "id": "b433ca1afbf81851",
   "outputs": [
    {
     "name": "stdout",
     "output_type": "stream",
     "text": [
      "Algorithme choisi : Monte Carlo On Policy Agent\n",
      "Environnement choisi : MontyHallLevel1\n",
      "Generating episode 1...\n",
      "Valeurs des états (Monte Carlo On Policy Agent):\n",
      "[9.99973439 0.         0.        ]\n",
      "\n",
      "Politique (Monte Carlo On Policy Agent):\n",
      "3 2 3 \n"
     ]
    }
   ],
   "execution_count": null
  }
 ],
 "metadata": {
  "kernelspec": {
   "display_name": "Python 3",
   "language": "python",
   "name": "python3"
  },
  "language_info": {
   "codemirror_mode": {
    "name": "ipython",
    "version": 2
   },
   "file_extension": ".py",
   "mimetype": "text/x-python",
   "name": "python",
   "nbconvert_exporter": "python",
   "pygments_lexer": "ipython2",
   "version": "2.7.6"
  }
 },
 "nbformat": 4,
 "nbformat_minor": 5
}
