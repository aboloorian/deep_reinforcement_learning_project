{
 "cells": [
  {
   "cell_type": "code",
   "execution_count": 2,
   "id": "8bc3add876815d3e",
   "metadata": {
    "ExecuteTime": {
     "end_time": "2024-07-24T13:21:01.635083Z",
     "start_time": "2024-07-24T13:21:01.631604Z"
    }
   },
   "outputs": [],
   "source": [
    "import numpy as np"
   ]
  },
  {
   "cell_type": "code",
   "execution_count": 3,
   "id": "initial_id",
   "metadata": {
    "ExecuteTime": {
     "end_time": "2024-07-24T13:21:01.641541Z",
     "start_time": "2024-07-24T13:21:01.638600Z"
    },
    "collapsed": true
   },
   "outputs": [],
   "source": [
    "from secret_envs_wrapper import SecretEnv0"
   ]
  },
  {
   "cell_type": "code",
   "execution_count": 5,
   "id": "95b773abcd4aa2fb",
   "metadata": {
    "ExecuteTime": {
     "end_time": "2024-07-24T13:21:01.653368Z",
     "start_time": "2024-07-24T13:21:01.643872Z"
    }
   },
   "outputs": [],
   "source": [
    "class PolicyIteration:\n",
    "    def __init__(self, env, gamma=0.9, theta=0.001, max_iter=1000):\n",
    "        self.env = env\n",
    "        self.gamma = gamma\n",
    "        self.theta = theta \n",
    "        self.max_iter = max_iter\n",
    "        self.policy = np.zeros(self.env.num_states(), dtype=int)\n",
    "        self.value_function = np.zeros(self.env.num_states())\n",
    "\n",
    "    def policy_iteration(self):\n",
    "        for _ in range(self.max_iter):\n",
    "            self.value_function = self.policy_evaluation()\n",
    "\n",
    "            policy_stable = True\n",
    "            for s in range(self.env.num_states()):\n",
    "                old_action = self.policy[s]\n",
    "                self.policy[s] = self.greedy_policy(s)\n",
    "                if old_action != self.policy[s]:\n",
    "                    policy_stable = False\n",
    "\n",
    "            if policy_stable:\n",
    "                break\n",
    "\n",
    "        return self.policy, self.value_function\n",
    "\n",
    "    def policy_evaluation(self):\n",
    "        value_function = np.zeros(self.env.num_states())\n",
    "        for _ in range(self.max_iter):\n",
    "            delta = 0\n",
    "            for s in range(self.env.num_states()):\n",
    "                v = value_function[s]\n",
    "                value_function[s] = self.expected_value(s)\n",
    "                delta = max(delta, abs(v - value_function[s]))\n",
    "            if delta < self.theta:\n",
    "                break\n",
    "        self.value_function = value_function\n",
    "        return value_function\n",
    "\n",
    "    def expected_value(self, s):\n",
    "        action = self.policy[s]\n",
    "        expected_value = 0\n",
    "        for s_prime in range(self.env.num_states()):\n",
    "            transition_prob = self.env.p(s, action, s_prime, action)  # Ajout de l'action comme r_index\n",
    "            reward = self.env.reward(s_prime)  # Appel de reward avec l'état suivant\n",
    "            expected_value += transition_prob * (reward + self.gamma * self.value_function[s_prime])\n",
    "        return expected_value\n",
    "\n",
    "    def greedy_policy(self, s):\n",
    "        actions = self.env.available_actions(s)\n",
    "        best_action = actions[0]\n",
    "        best_value = self.expected_value_for_action(s, actions[0])\n",
    "        for action in actions[1:]:\n",
    "            value = self.expected_value_for_action(s, action)\n",
    "            if value > best_value:\n",
    "                best_action = action\n",
    "                best_value = value\n",
    "        return best_action\n",
    "\n",
    "    def expected_value_for_action(self, s, action):\n",
    "        expected_value = 0\n",
    "        for s_prime in range(self.env.num_states()):\n",
    "            transition_prob = self.env.p(s, action, s_prime, action)  # Ajout de l'action comme r_index\n",
    "            reward = self.env.reward(s_prime)  # Appel de reward avec l'état suivant\n",
    "            expected_value += transition_prob * (reward + self.gamma * self.value_function[s_prime])\n",
    "        return expected_value"
   ]
  },
  {
   "cell_type": "code",
   "execution_count": null,
   "id": "51642070fdf98dae",
   "metadata": {
    "ExecuteTime": {
     "end_time": "2024-07-24T13:21:01.690278Z",
     "start_time": "2024-07-24T13:21:01.654762Z"
    }
   },
   "outputs": [
    {
     "ename": "",
     "evalue": "",
     "output_type": "error",
     "traceback": [
      "\u001b[1;31mThe Kernel crashed while executing code in the current cell or a previous cell. \n",
      "\u001b[1;31mPlease review the code in the cell(s) to identify a possible cause of the failure. \n",
      "\u001b[1;31mClick <a href='https://aka.ms/vscodeJupyterKernelCrash'>here</a> for more info. \n",
      "\u001b[1;31mView Jupyter <a href='command:jupyter.viewOutput'>log</a> for further details."
     ]
    }
   ],
   "source": [
    "env = SecretEnv0()\n",
    "policy_iteration = PolicyIteration(env)\n",
    "policy, value_function = policy_iteration.policy_iteration()\n",
    "print(\"Politique optimale : \", policy)\n",
    "print(\"Fonction de valeur optimale : \", value_function)"
   ]
  },
  {
   "cell_type": "code",
   "execution_count": null,
   "metadata": {},
   "outputs": [],
   "source": []
  }
 ],
 "metadata": {
  "kernelspec": {
   "display_name": "Python 3",
   "language": "python",
   "name": "python3"
  },
  "language_info": {
   "codemirror_mode": {
    "name": "ipython",
    "version": 3
   },
   "file_extension": ".py",
   "mimetype": "text/x-python",
   "name": "python",
   "nbconvert_exporter": "python",
   "pygments_lexer": "ipython3",
   "version": "3.11.5"
  }
 },
 "nbformat": 4,
 "nbformat_minor": 5
}
