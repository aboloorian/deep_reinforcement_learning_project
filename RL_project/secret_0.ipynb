{
 "cells": [
  {
   "cell_type": "code",
   "id": "8bc3add876815d3e",
   "metadata": {
    "ExecuteTime": {
     "end_time": "2024-07-24T14:59:40.880593Z",
     "start_time": "2024-07-24T14:59:40.796101Z"
    }
   },
   "source": [
    "import numpy as np"
   ],
   "outputs": [],
   "execution_count": 1
  },
  {
   "cell_type": "code",
   "id": "initial_id",
   "metadata": {
    "collapsed": true,
    "ExecuteTime": {
     "end_time": "2024-07-24T14:59:41.122857Z",
     "start_time": "2024-07-24T14:59:41.118945Z"
    }
   },
   "source": [
    "from secret_envs_wrapper import SecretEnv0"
   ],
   "outputs": [],
   "execution_count": 2
  },
  {
   "cell_type": "code",
   "id": "95b773abcd4aa2fb",
   "metadata": {
    "ExecuteTime": {
     "end_time": "2024-07-24T14:59:41.314714Z",
     "start_time": "2024-07-24T14:59:41.307435Z"
    }
   },
   "source": [
    "class PolicyIteration:\n",
    "    def __init__(self, env, gamma=0.9, theta=0.001, max_iter=1000):\n",
    "        self.env = env\n",
    "        self.gamma = gamma\n",
    "        self.theta = theta \n",
    "        self.max_iter = max_iter\n",
    "        self.policy = np.zeros(self.env.num_states(), dtype=int)\n",
    "        self.value_function = np.zeros(self.env.num_states())\n",
    "\n",
    "    def policy_iteration(self):\n",
    "        for _ in range(self.max_iter):\n",
    "            self.value_function = self.policy_evaluation()\n",
    "\n",
    "            policy_stable = True\n",
    "            for s in range(self.env.num_states()):\n",
    "                old_action = self.policy[s]\n",
    "                self.policy[s] = self.greedy_policy(s)\n",
    "                if old_action != self.policy[s]:\n",
    "                    policy_stable = False\n",
    "\n",
    "            if policy_stable:\n",
    "                break\n",
    "\n",
    "        return self.policy, self.value_function\n",
    "\n",
    "    def policy_evaluation(self):\n",
    "        value_function = np.zeros(self.env.num_states())\n",
    "        for _ in range(self.max_iter):\n",
    "            delta = 0\n",
    "            for s in range(self.env.num_states()):\n",
    "                v = value_function[s]\n",
    "                value_function[s] = self.expected_value(s)\n",
    "                delta = max(delta, abs(v - value_function[s]))\n",
    "            if delta < self.theta:\n",
    "                break\n",
    "        self.value_function = value_function\n",
    "        return value_function\n",
    "\n",
    "    def expected_value(self, s):\n",
    "        action = self.policy[s]\n",
    "        expected_value = 0\n",
    "        for s_prime in range(self.env.num_states()):\n",
    "            transition_prob = self.env.p(s, action, s_prime, action)\n",
    "            reward = self.env.reward(s_prime)\n",
    "            expected_value += transition_prob * (reward + self.gamma * self.value_function[s_prime])\n",
    "        return expected_value\n",
    "\n",
    "    def greedy_policy(self, s):\n",
    "        actions = self.env.available_actions(s)\n",
    "        best_action = actions[0]\n",
    "        best_value = self.expected_value_for_action(s, actions[0])\n",
    "        for action in actions[1:]:\n",
    "            value = self.expected_value_for_action(s, action)\n",
    "            if value > best_value:\n",
    "                best_action = action\n",
    "                best_value = value\n",
    "        return best_action\n",
    "\n",
    "    def expected_value_for_action(self, s, action):\n",
    "        expected_value = 0\n",
    "        for s_prime in range(self.env.num_states()):\n",
    "            transition_prob = self.env.p(s, action, s_prime, action)\n",
    "            reward = self.env.reward(s_prime)\n",
    "            expected_value += transition_prob * (reward + self.gamma * self.value_function[s_prime])\n",
    "        return expected_value"
   ],
   "outputs": [],
   "execution_count": 3
  },
  {
   "metadata": {
    "ExecuteTime": {
     "end_time": "2024-07-24T14:59:41.699350Z",
     "start_time": "2024-07-24T14:59:41.693522Z"
    }
   },
   "cell_type": "code",
   "source": [
    "class ValueIteration:\n",
    "    def __init__(self, env, gamma=0.9, theta=0.001, max_iter=1000):\n",
    "        self.env = env\n",
    "        self.gamma = gamma\n",
    "        self.theta = theta\n",
    "        self.max_iter = max_iter\n",
    "        self.value_function = np.zeros(self.env.num_states())\n",
    "        self.policy = np.zeros(self.env.num_states(), dtype=int)\n",
    "\n",
    "    def value_iteration(self):\n",
    "        for _ in range(self.max_iter):\n",
    "            delta = 0\n",
    "            new_value_function = np.copy(self.value_function)\n",
    "            for s in range(self.env.num_states()):\n",
    "                v = self.value_function[s]\n",
    "                new_value_function[s] = self.compute_value(s)\n",
    "                delta = max(delta, abs(v - new_value_function[s]))\n",
    "            self.value_function = new_value_function\n",
    "            if delta < self.theta:\n",
    "                break\n",
    "        \n",
    "        self.extract_policy()\n",
    "        return self.policy, self.value_function\n",
    "\n",
    "    def compute_value(self, s):\n",
    "        actions = self.env.available_actions(s)  # Obtient les actions disponibles pour l'état s\n",
    "        action_values = np.zeros(len(actions))\n",
    "        for i, action in enumerate(actions):\n",
    "            action_values[i] = self.expected_value_for_action(s, action)\n",
    "        return np.max(action_values)\n",
    "\n",
    "    def expected_value_for_action(self, s, action):\n",
    "        expected_value = 0\n",
    "        for s_prime in range(self.env.num_states()):\n",
    "            transition_prob = self.env.p(s, action, s_prime)  # Probabilité de transition\n",
    "            reward = self.env.reward(s_prime)  # Récompense pour s_prime\n",
    "            expected_value += transition_prob * (reward + self.gamma * self.value_function[s_prime])\n",
    "        return expected_value\n",
    "\n",
    "    def extract_policy(self):\n",
    "        for s in range(self.env.num_states()):\n",
    "            actions = self.env.available_actions(s)  # Obtient les actions disponibles pour l'état s\n",
    "            best_action = actions[0]\n",
    "            best_value = self.expected_value_for_action(s, best_action)\n",
    "            for action in actions[1:]:\n",
    "                value = self.expected_value_for_action(s, action)\n",
    "                if value > best_value:\n",
    "                    best_action = action\n",
    "                    best_value = value\n",
    "            self.policy[s] = best_action\n"
   ],
   "id": "1b198213995aff15",
   "outputs": [],
   "execution_count": 4
  },
  {
   "cell_type": "code",
   "id": "51642070fdf98dae",
   "metadata": {
    "ExecuteTime": {
     "start_time": "2024-07-24T14:58:15.143065Z"
    }
   },
   "source": [
    "env = SecretEnv0()\n",
    "policy_iteration = PolicyIteration(env)\n",
    "policy, value_function = policy_iteration.policy_iteration()\n",
    "print(\"Politique optimale : \", policy)\n",
    "print(\"Fonction de valeur optimale : \", value_function)"
   ],
   "outputs": [],
   "execution_count": null
  },
  {
   "cell_type": "code",
   "metadata": {
    "ExecuteTime": {
     "end_time": "2024-07-24T14:59:43.590806Z",
     "start_time": "2024-07-24T14:59:43.366723Z"
    }
   },
   "source": [
    "env = SecretEnv0()\n",
    "value_iteration = ValueIteration(env)\n",
    "value, value_function = value_iteration.value_iteration()\n",
    "print(\"Politique optimale : \", policy)\n",
    "print(\"Fonction de valeur optimale : \", value_function)"
   ],
   "id": "d7aaed30caedbcb4",
   "outputs": [
    {
     "ename": "TypeError",
     "evalue": "SecretEnv0.available_actions() takes 1 positional argument but 2 were given",
     "output_type": "error",
     "traceback": [
      "\u001B[0;31m---------------------------------------------------------------------------\u001B[0m",
      "\u001B[0;31mTypeError\u001B[0m                                 Traceback (most recent call last)",
      "Cell \u001B[0;32mIn[5], line 3\u001B[0m\n\u001B[1;32m      1\u001B[0m env \u001B[38;5;241m=\u001B[39m SecretEnv0()\n\u001B[1;32m      2\u001B[0m value_iteration \u001B[38;5;241m=\u001B[39m ValueIteration(env)\n\u001B[0;32m----> 3\u001B[0m value, value_function \u001B[38;5;241m=\u001B[39m value_iteration\u001B[38;5;241m.\u001B[39mvalue_iteration()\n\u001B[1;32m      4\u001B[0m \u001B[38;5;28mprint\u001B[39m(\u001B[38;5;124m\"\u001B[39m\u001B[38;5;124mPolitique optimale : \u001B[39m\u001B[38;5;124m\"\u001B[39m, policy)\n\u001B[1;32m      5\u001B[0m \u001B[38;5;28mprint\u001B[39m(\u001B[38;5;124m\"\u001B[39m\u001B[38;5;124mFonction de valeur optimale : \u001B[39m\u001B[38;5;124m\"\u001B[39m, value_function)\n",
      "Cell \u001B[0;32mIn[4], line 16\u001B[0m, in \u001B[0;36mValueIteration.value_iteration\u001B[0;34m(self)\u001B[0m\n\u001B[1;32m     14\u001B[0m \u001B[38;5;28;01mfor\u001B[39;00m s \u001B[38;5;129;01min\u001B[39;00m \u001B[38;5;28mrange\u001B[39m(\u001B[38;5;28mself\u001B[39m\u001B[38;5;241m.\u001B[39menv\u001B[38;5;241m.\u001B[39mnum_states()):\n\u001B[1;32m     15\u001B[0m     v \u001B[38;5;241m=\u001B[39m \u001B[38;5;28mself\u001B[39m\u001B[38;5;241m.\u001B[39mvalue_function[s]\n\u001B[0;32m---> 16\u001B[0m     new_value_function[s] \u001B[38;5;241m=\u001B[39m \u001B[38;5;28mself\u001B[39m\u001B[38;5;241m.\u001B[39mcompute_value(s)\n\u001B[1;32m     17\u001B[0m     delta \u001B[38;5;241m=\u001B[39m \u001B[38;5;28mmax\u001B[39m(delta, \u001B[38;5;28mabs\u001B[39m(v \u001B[38;5;241m-\u001B[39m new_value_function[s]))\n\u001B[1;32m     18\u001B[0m \u001B[38;5;28mself\u001B[39m\u001B[38;5;241m.\u001B[39mvalue_function \u001B[38;5;241m=\u001B[39m new_value_function\n",
      "Cell \u001B[0;32mIn[4], line 26\u001B[0m, in \u001B[0;36mValueIteration.compute_value\u001B[0;34m(self, s)\u001B[0m\n\u001B[1;32m     25\u001B[0m \u001B[38;5;28;01mdef\u001B[39;00m \u001B[38;5;21mcompute_value\u001B[39m(\u001B[38;5;28mself\u001B[39m, s):\n\u001B[0;32m---> 26\u001B[0m     actions \u001B[38;5;241m=\u001B[39m \u001B[38;5;28mself\u001B[39m\u001B[38;5;241m.\u001B[39menv\u001B[38;5;241m.\u001B[39mavailable_actions(s)  \u001B[38;5;66;03m# Obtient les actions disponibles pour l'état s\u001B[39;00m\n\u001B[1;32m     27\u001B[0m     action_values \u001B[38;5;241m=\u001B[39m np\u001B[38;5;241m.\u001B[39mzeros(\u001B[38;5;28mlen\u001B[39m(actions))\n\u001B[1;32m     28\u001B[0m     \u001B[38;5;28;01mfor\u001B[39;00m i, action \u001B[38;5;129;01min\u001B[39;00m \u001B[38;5;28menumerate\u001B[39m(actions):\n",
      "\u001B[0;31mTypeError\u001B[0m: SecretEnv0.available_actions() takes 1 positional argument but 2 were given"
     ]
    }
   ],
   "execution_count": 5
  },
  {
   "metadata": {},
   "cell_type": "code",
   "outputs": [],
   "execution_count": null,
   "source": "",
   "id": "51aa58c55d268f07"
  }
 ],
 "metadata": {
  "kernelspec": {
   "display_name": "Python 3",
   "language": "python",
   "name": "python3"
  },
  "language_info": {
   "codemirror_mode": {
    "name": "ipython",
    "version": 3
   },
   "file_extension": ".py",
   "mimetype": "text/x-python",
   "name": "python",
   "nbconvert_exporter": "python",
   "pygments_lexer": "ipython3",
   "version": "3.11.5"
  }
 },
 "nbformat": 4,
 "nbformat_minor": 5
}
