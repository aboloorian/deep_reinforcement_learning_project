{
 "cells": [
  {
   "cell_type": "code",
   "id": "8bc3add876815d3e",
   "metadata": {
    "ExecuteTime": {
     "end_time": "2024-07-24T14:03:15.628416Z",
     "start_time": "2024-07-24T14:03:15.527284Z"
    }
   },
   "source": [
    "import numpy as np"
   ],
   "outputs": [],
   "execution_count": 1
  },
  {
   "cell_type": "code",
   "id": "initial_id",
   "metadata": {
    "collapsed": true,
    "ExecuteTime": {
     "end_time": "2024-07-24T14:03:15.698321Z",
     "start_time": "2024-07-24T14:03:15.691675Z"
    }
   },
   "source": "from secret_envs_wrapper import SecretEnv2",
   "outputs": [],
   "execution_count": 2
  },
  {
   "cell_type": "code",
   "id": "95b773abcd4aa2fb",
   "metadata": {
    "ExecuteTime": {
     "end_time": "2024-07-24T14:03:15.710821Z",
     "start_time": "2024-07-24T14:03:15.701833Z"
    }
   },
   "source": [
    "class PolicyIteration:\n",
    "    def __init__(self, env, gamma=0.9, theta=0.001, max_iter=1000):\n",
    "        self.env = env\n",
    "        self.gamma = gamma\n",
    "        self.theta = theta \n",
    "        self.max_iter = max_iter\n",
    "        self.policy = np.zeros(self.env.num_states(), dtype=int)\n",
    "        self.value_function = np.zeros(self.env.num_states())\n",
    "\n",
    "    def policy_iteration(self):\n",
    "        for _ in range(self.max_iter):\n",
    "            self.value_function = self.policy_evaluation()\n",
    "\n",
    "            policy_stable = True\n",
    "            for s in range(self.env.num_states()):\n",
    "                old_action = self.policy[s]\n",
    "                self.policy[s] = self.greedy_policy(s)\n",
    "                if old_action != self.policy[s]:\n",
    "                    policy_stable = False\n",
    "\n",
    "            if policy_stable:\n",
    "                break\n",
    "\n",
    "        return self.policy, self.value_function\n",
    "\n",
    "    def policy_evaluation(self):\n",
    "        value_function = np.zeros(self.env.num_states())\n",
    "        for _ in range(self.max_iter):\n",
    "            delta = 0\n",
    "            for s in range(self.env.num_states()):\n",
    "                v = value_function[s]\n",
    "                value_function[s] = self.expected_value(s)\n",
    "                delta = max(delta, abs(v - value_function[s]))\n",
    "            if delta < self.theta:\n",
    "                break\n",
    "        self.value_function = value_function\n",
    "        return value_function\n",
    "\n",
    "    def expected_value(self, s):\n",
    "        action = self.policy[s]\n",
    "        expected_value = 0\n",
    "        for s_prime in range(self.env.num_states()):\n",
    "            transition_prob = self.env.p(s, action, s_prime, action)\n",
    "            reward = self.env.reward(s_prime)\n",
    "            expected_value += transition_prob * (reward + self.gamma * self.value_function[s_prime])\n",
    "        return expected_value\n",
    "\n",
    "    def greedy_policy(self, s):\n",
    "        actions = self.env.available_actions(s)\n",
    "        best_action = actions[0]\n",
    "        best_value = self.expected_value_for_action(s, actions[0])\n",
    "        for action in actions[1:]:\n",
    "            value = self.expected_value_for_action(s, action)\n",
    "            if value > best_value:\n",
    "                best_action = action\n",
    "                best_value = value\n",
    "        return best_action\n",
    "\n",
    "    def expected_value_for_action(self, s, action):\n",
    "        expected_value = 0\n",
    "        for s_prime in range(self.env.num_states()):\n",
    "            transition_prob = self.env.p(s, action, s_prime, action)\n",
    "            reward = self.env.reward(s_prime)\n",
    "            expected_value += transition_prob * (reward + self.gamma * self.value_function[s_prime])\n",
    "        return expected_value"
   ],
   "outputs": [],
   "execution_count": 3
  },
  {
   "metadata": {},
   "cell_type": "code",
   "outputs": [],
   "execution_count": null,
   "source": [
    "class ValueIteration:\n",
    "    def __init__(self, env, gamma=0.9, theta=0.001, max_iter=1000):\n",
    "        self.env = env\n",
    "        self.gamma = gamma\n",
    "        self.theta = theta\n",
    "        self.max_iter = max_iter\n",
    "        self.value_function = np.zeros(self.env.num_states())\n",
    "        self.policy = np.zeros(self.env.num_states(), dtype=int)\n",
    "\n",
    "    def value_iteration(self):\n",
    "        for _ in range(self.max_iter):\n",
    "            delta = 0\n",
    "            new_value_function = np.copy(self.value_function)\n",
    "            \n",
    "            for s in range(self.env.num_states()):\n",
    "                old_value = self.value_function[s]\n",
    "                new_value_function[s] = self.compute_value_for_state(s)\n",
    "                delta = max(delta, abs(old_value - new_value_function[s]))\n",
    "            \n",
    "            self.value_function = new_value_function\n",
    "            \n",
    "            if delta < self.theta:\n",
    "                break\n",
    "\n",
    "        # Compute the policy after convergence\n",
    "        self.compute_policy()\n",
    "\n",
    "        return self.policy, self.value_function\n",
    "\n",
    "    def compute_value_for_state(self, state):\n",
    "        best_value = float('-inf')\n",
    "        for action in self.env.available_actions(state):  # Assurez-vous que cette méthode accepte un seul argument\n",
    "            value = self.compute_value_for_action(state, action)\n",
    "            if value > best_value:\n",
    "                best_value = value\n",
    "        return best_value\n",
    "\n",
    "    def compute_value_for_action(self, state, action):\n",
    "        expected_value = 0\n",
    "        for next_state in range(self.env.num_states()):\n",
    "            transition_prob = self.env.p(state, action, next_state, action)\n",
    "            reward = self.env.reward(next_state)\n",
    "            expected_value += transition_prob * (reward + self.gamma * self.value_function[next_state])\n",
    "        return expected_value\n",
    "\n",
    "    def compute_policy(self):\n",
    "        for s in range(self.env.num_states()):\n",
    "            best_action = None\n",
    "            best_value = float('-inf')\n",
    "            \n",
    "            for action in self.env.available_actions(s):  # Assurez-vous que cette méthode accepte un seul argument\n",
    "                value = self.compute_value_for_action(s, action)\n",
    "                if value > best_value:\n",
    "                    best_action = action\n",
    "                    best_value = value\n",
    "            \n",
    "            self.policy[s] = best_action"
   ],
   "id": "f456c62e5b87f14"
  },
  {
   "cell_type": "code",
   "id": "51642070fdf98dae",
   "metadata": {
    "ExecuteTime": {
     "start_time": "2024-07-24T14:03:15.713322Z"
    }
   },
   "source": [
    "env = SecretEnv2()\n",
    "policy_iteration = PolicyIteration(env)\n",
    "policy, value_function = policy_iteration.policy_iteration()\n",
    "print(\"Politique optimale : \", policy)\n",
    "print(\"Fonction de valeur optimale : \", value_function)"
   ],
   "outputs": [],
   "execution_count": null
  },
  {
   "cell_type": "code",
   "metadata": {},
   "source": [
    "env = SecretEnv2()\n",
    "value_iteration = ValueIteration(env)\n",
    "value, value_function = value_iteration.value_iteration()\n",
    "print(\"Politique optimale : \", policy)\n",
    "print(\"Fonction de valeur optimale : \", value_function)"
   ],
   "id": "d7aaed30caedbcb4",
   "outputs": [],
   "execution_count": null
  },
  {
   "metadata": {},
   "cell_type": "code",
   "outputs": [],
   "execution_count": null,
   "source": "",
   "id": "5f83d60cd467294a"
  }
 ],
 "metadata": {
  "kernelspec": {
   "display_name": "Python 3",
   "language": "python",
   "name": "python3"
  },
  "language_info": {
   "codemirror_mode": {
    "name": "ipython",
    "version": 3
   },
   "file_extension": ".py",
   "mimetype": "text/x-python",
   "name": "python",
   "nbconvert_exporter": "python",
   "pygments_lexer": "ipython3",
   "version": "3.11.5"
  }
 },
 "nbformat": 4,
 "nbformat_minor": 5
}
