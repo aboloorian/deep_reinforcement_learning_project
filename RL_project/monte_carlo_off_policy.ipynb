{
 "cells": [
  {
   "cell_type": "code",
   "id": "initial_id",
   "metadata": {
    "collapsed": true,
    "ExecuteTime": {
     "end_time": "2024-07-21T17:15:01.310347Z",
     "start_time": "2024-07-21T17:15:01.305893Z"
    }
   },
   "source": "import numpy as np",
   "outputs": [],
   "execution_count": 9
  },
  {
   "metadata": {
    "ExecuteTime": {
     "end_time": "2024-07-21T17:15:01.321567Z",
     "start_time": "2024-07-21T17:15:01.313450Z"
    }
   },
   "cell_type": "code",
   "source": [
    "class Environment:\n",
    "    def __init__(self, size, goal_state, rewards):\n",
    "        self.size = size\n",
    "        self.goal_state = goal_state\n",
    "        self.rewards = rewards\n",
    "        self.actions = ['up', 'down', 'left', 'right']\n",
    "        self.action_space = len(self.actions)\n",
    "        self.current_state = 0\n",
    "\n",
    "    def reset(self):\n",
    "        self.current_state = 0\n",
    "        return self.current_state\n",
    "\n",
    "    def get_next_state(self, state, action):\n",
    "        row, col = divmod(state, self.size[1])\n",
    "        if action == 'up':\n",
    "            row = max(row - 1, 0)\n",
    "        elif action == 'down':\n",
    "            row = min(row + 1, self.size[0] - 1)\n",
    "        elif action == 'left':\n",
    "            col = max(col - 1, 0)\n",
    "        elif action == 'right':\n",
    "            col = min(col + 1, self.size[1] - 1)\n",
    "        return row * self.size[1] + col\n",
    "\n",
    "    def get_reward(self, state):\n",
    "        return self.rewards.get(state, -1)\n",
    "    \n",
    "    def step(self, action):\n",
    "        next_state = self.get_next_state(self.current_state, action)\n",
    "        reward = self.get_reward(next_state)\n",
    "        done = self.is_done(next_state)\n",
    "        self.current_state = next_state\n",
    "        return next_state, reward, done, {}\n",
    "    \n",
    "    def is_done(self, state):\n",
    "        return state == self.goal_state"
   ],
   "id": "63ad574b03acf0a1",
   "outputs": [],
   "execution_count": 10
  },
  {
   "metadata": {
    "ExecuteTime": {
     "end_time": "2024-07-21T17:15:01.325790Z",
     "start_time": "2024-07-21T17:15:01.322765Z"
    }
   },
   "cell_type": "code",
   "source": [
    "class Parameters:\n",
    "    def __init__(self, size, goal_state, rewards, gamma):\n",
    "        self.size = size\n",
    "        self.goal_state = goal_state\n",
    "        self.rewards = rewards\n",
    "        self.gamma = gamma"
   ],
   "id": "40e54698e349ae0c",
   "outputs": [],
   "execution_count": 11
  },
  {
   "metadata": {
    "ExecuteTime": {
     "end_time": "2024-07-21T17:15:01.337734Z",
     "start_time": "2024-07-21T17:15:01.327540Z"
    }
   },
   "cell_type": "code",
   "source": [
    "class MonteCarloOffPolicyAgent:\n",
    "    def __init__(self, environment, gamma=0.9, epsilon=0.1):\n",
    "        self.environment = environment\n",
    "        self.gamma = gamma\n",
    "        self.epsilon = epsilon\n",
    "        self.state_action_values = np.zeros((np.prod(environment.size), environment.action_space))\n",
    "        self.C = np.zeros((np.prod(environment.size), environment.action_space))\n",
    "        self.policy = np.zeros((np.prod(environment.size), environment.action_space))\n",
    "        self.initialize_policy()\n",
    "\n",
    "    def initialize_policy(self):\n",
    "        for state in range(np.prod(self.environment.size)):\n",
    "            best_action = np.random.choice(self.environment.action_space)\n",
    "            self.policy[state][best_action] = 1.0\n",
    "\n",
    "    def select_action(self, state, policy):\n",
    "        return np.random.choice(self.environment.action_space, p=policy[state])\n",
    "\n",
    "    def generate_episode(self, policy, max_steps=100):\n",
    "        episode = []\n",
    "        state = self.environment.reset()\n",
    "        for _ in range(max_steps):\n",
    "            action = self.select_action(state, policy)\n",
    "            next_state, reward, done, _ = self.environment.step(self.environment.actions[action])\n",
    "            episode.append((state, action, reward))\n",
    "            if done:\n",
    "                break\n",
    "            state = next_state\n",
    "        return episode\n",
    "\n",
    "    def monte_carlo_off_policy(self, episodes=20):\n",
    "        b_policy = np.ones((np.prod(self.environment.size), self.environment.action_space)) * self.epsilon / self.environment.action_space\n",
    "        for state in range(np.prod(self.environment.size)):\n",
    "            best_action = np.random.choice(self.environment.action_space)\n",
    "            b_policy[state][best_action] += 1 - self.epsilon\n",
    "    \n",
    "        for _ in range(episodes):\n",
    "            episode = self.generate_episode(b_policy)\n",
    "            G = 0\n",
    "            W = 1\n",
    "            for t in reversed(range(len(episode))):\n",
    "                state, action, reward = episode[t]\n",
    "                G = self.gamma * G + reward\n",
    "                self.C[state][action] += W\n",
    "                self.state_action_values[state][action] += (W / self.C[state][action]) * (G - self.state_action_values[state][action])\n",
    "                best_action = np.argmax(self.state_action_values[state])\n",
    "                self.policy[state] = np.zeros(self.environment.action_space)\n",
    "                self.policy[state][best_action] = 1.0\n",
    "                if action != best_action:\n",
    "                    break\n",
    "                W = W / (b_policy[state][action] + 1e-10)\n",
    "\n",
    "    def find_best_path_for_goal(self, start_state):\n",
    "        state = start_state\n",
    "        path = [state]\n",
    "        action_map = {0: 'up', 1: 'down', 2: 'left', 3: 'right'}\n",
    "        while True:\n",
    "            action_idx = np.argmax(self.policy[state])\n",
    "            action = action_map[action_idx]\n",
    "            next_state, reward, done, _ = self.environment.step(action)\n",
    "            path.append(next_state)\n",
    "            if done:\n",
    "                break\n",
    "            state = next_state\n",
    "        return path"
   ],
   "id": "990ab5749feea96a",
   "outputs": [],
   "execution_count": 12
  },
  {
   "metadata": {
    "ExecuteTime": {
     "end_time": "2024-07-21T17:15:01.351122Z",
     "start_time": "2024-07-21T17:15:01.338990Z"
    }
   },
   "cell_type": "code",
   "source": [
    "param = Parameters((3, 3), 8, {8: 10, 3: -5}, 0.9)\n",
    "environment = Environment(param.size, param.goal_state, param.rewards)\n",
    "agent = MonteCarloOffPolicyAgent(environment, param.gamma)\n",
    "\n",
    "agent.monte_carlo_off_policy()\n",
    "\n",
    "print(\"State Values:\")\n",
    "print(agent.state_action_values.max(axis=1).reshape(param.size))\n",
    "print(\"\\nPolicy:\")\n",
    "for row in range(param.size[0]):\n",
    "    for col in range(param.size[1]):\n",
    "        state = row * param.size[1] + col\n",
    "        if state == param.goal_state:\n",
    "            print(\" G \", end=\" \")\n",
    "        else:\n",
    "            action_idx = np.random.choice(range(len(environment.actions)), p=agent.policy[state])\n",
    "            print(environment.actions[action_idx], end=\" \")\n",
    "    print()\n",
    "\n",
    "start_state = 0\n",
    "best_path = agent.find_best_path_for_goal(start_state)\n",
    "print(\"\\nBest Path from state 0 to goal:\")\n",
    "print(best_path)"
   ],
   "id": "b433ca1afbf81851",
   "outputs": [
    {
     "name": "stdout",
     "output_type": "stream",
     "text": [
      "State Values:\n",
      "[[ 4.58  6.2   0.  ]\n",
      " [ 0.    8.    6.2 ]\n",
      " [ 8.   10.    0.  ]]\n",
      "\n",
      "Policy:\n",
      "right down left \n",
      "up down left \n",
      "right right  G  \n",
      "\n",
      "Best Path from state 0 to goal:\n",
      "[0, 8]\n"
     ]
    }
   ],
   "execution_count": 13
  }
 ],
 "metadata": {
  "kernelspec": {
   "display_name": "Python 3",
   "language": "python",
   "name": "python3"
  },
  "language_info": {
   "codemirror_mode": {
    "name": "ipython",
    "version": 2
   },
   "file_extension": ".py",
   "mimetype": "text/x-python",
   "name": "python",
   "nbconvert_exporter": "python",
   "pygments_lexer": "ipython2",
   "version": "2.7.6"
  }
 },
 "nbformat": 4,
 "nbformat_minor": 5
}
