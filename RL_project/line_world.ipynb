{
 "cells": [
  {
   "cell_type": "code",
   "id": "8bc3add876815d3e",
   "metadata": {
    "ExecuteTime": {
     "end_time": "2024-07-24T13:38:06.945997Z",
     "start_time": "2024-07-24T13:38:06.861154Z"
    }
   },
   "source": [
    "import numpy as np"
   ],
   "outputs": [],
   "execution_count": 1
  },
  {
   "cell_type": "code",
   "id": "initial_id",
   "metadata": {
    "collapsed": true,
    "ExecuteTime": {
     "end_time": "2024-07-24T13:38:06.964833Z",
     "start_time": "2024-07-24T13:38:06.958397Z"
    }
   },
   "source": [
    "class LineWorld:\n",
    "    def __init__(self):\n",
    "        self.grid = np.arange(13)\n",
    "        self.states = self.grid.size\n",
    "        self.actions = 2\n",
    "        self.state = 6\n",
    "        self.forbidden = 0\n",
    "        self.game_over = False\n",
    "        self.rewards = np.zeros(self.states)\n",
    "        self.rewards[3] = 1  # Setting a reward of 1 for reaching state 3\n",
    "        \n",
    "        # transitions array (s, a, s')\n",
    "        self.transitions = np.zeros((self.states, self.actions, self.states))\n",
    "        for s in range(self.states):\n",
    "            if s > 0:\n",
    "                self.transitions[s, 0, s-1] = 0.9\n",
    "                self.transitions[s, 0, s] = 0.1\n",
    "            if s < self.states - 1:\n",
    "                self.transitions[s, 1, s+1] = 0.9\n",
    "                self.transitions[s, 1, s] = 0.1\n",
    "\n",
    "    def num_states(self) -> int:\n",
    "        return self.grid.size\n",
    "\n",
    "    def num_actions(self) -> int:\n",
    "        return self.actions\n",
    "\n",
    "    def num_rewards(self) -> int:\n",
    "        return self.rewards.size\n",
    "\n",
    "    def reward(self, i: int) -> float:\n",
    "        return self.rewards[i]\n",
    "\n",
    "    def p(self, s: int, a: int, s_p: int) -> float:\n",
    "        return self.transitions[s, a, s_p]\n",
    "\n",
    "    def state_id(self) -> int:\n",
    "        return self.state\n",
    "\n",
    "    def reset(self):\n",
    "        self.state = 6\n",
    "        self.forbidden = 0\n",
    "        self.game_over = False\n",
    "\n",
    "    def display(self):\n",
    "        print(f\"State: {self.state}\")\n",
    "\n",
    "    def is_forbidden(self, action: int) -> int:\n",
    "        return self.forbidden\n",
    "\n",
    "    def is_game_over(self) -> bool:\n",
    "        return self.game_over\n",
    "\n",
    "    def available_actions(self) -> np.ndarray:\n",
    "        return np.array([0, 1])\n",
    "\n",
    "    def step(self, action: int):\n",
    "        if self.game_over:\n",
    "            raise ValueError(\"Game is over\")\n",
    "        if self.is_forbidden(action):\n",
    "            raise ValueError(\"Forbidden action\")\n",
    "        next_state = np.random.choice(np.arange(self.states), p=self.transitions[self.state, action])\n",
    "        reward = self.rewards[next_state]\n",
    "        self.state = next_state\n",
    "        self.game_over = self.state == 3\n",
    "        return self.state, reward, self.game_over, {}\n",
    "\n",
    "    def score(self):\n",
    "        return self.rewards[self.state]\n",
    "\n",
    "    def is_terminal(self, state):\n",
    "        return state == 12"
   ],
   "outputs": [],
   "execution_count": 2
  },
  {
   "cell_type": "code",
   "id": "95b773abcd4aa2fb",
   "metadata": {
    "ExecuteTime": {
     "end_time": "2024-07-24T13:38:06.978064Z",
     "start_time": "2024-07-24T13:38:06.967104Z"
    }
   },
   "source": [
    "class PolicyIteration:\n",
    "    def __init__(self, env, gamma=0.9, theta=0.001, max_iter=1000):\n",
    "        self.env = env\n",
    "        self.gamma = gamma\n",
    "        self.theta = theta \n",
    "        self.max_iter = max_iter\n",
    "        self.policy = np.zeros(self.env.num_states(), dtype=int)\n",
    "        self.value_function = np.zeros(self.env.num_states())\n",
    "\n",
    "    def policy_iteration(self):\n",
    "        for _ in range(self.max_iter):\n",
    "            self.value_function = self.policy_evaluation()\n",
    "\n",
    "            policy_stable = True\n",
    "            for s in range(self.env.num_states()):\n",
    "                old_action = self.policy[s]\n",
    "                self.policy[s] = self.greedy_policy(s)\n",
    "                if old_action != self.policy[s]:\n",
    "                    policy_stable = False\n",
    "\n",
    "            if policy_stable:\n",
    "                break\n",
    "\n",
    "        return self.policy, self.value_function\n",
    "\n",
    "    def policy_evaluation(self):\n",
    "        value_function = np.zeros(self.env.num_states())\n",
    "        for _ in range(self.max_iter):\n",
    "            delta = 0\n",
    "            for s in range(self.env.num_states()):\n",
    "                v = value_function[s]\n",
    "                value_function[s] = self.expected_value(s)\n",
    "                delta = max(delta, abs(v - value_function[s]))\n",
    "            if delta < self.theta:\n",
    "                break\n",
    "        self.value_function = value_function\n",
    "        return value_function\n",
    "\n",
    "    def expected_value(self, s):\n",
    "        action = self.policy[s]\n",
    "        expected_value = 0\n",
    "        for s_prime in range(self.env.num_states()):\n",
    "            transition_prob = self.env.p(s, action, s_prime, action)\n",
    "            reward = self.env.reward(s_prime)\n",
    "            expected_value += transition_prob * (reward + self.gamma * self.value_function[s_prime])\n",
    "        return expected_value\n",
    "\n",
    "    def greedy_policy(self, s):\n",
    "        actions = self.env.available_actions(s)\n",
    "        best_action = actions[0]\n",
    "        best_value = self.expected_value_for_action(s, actions[0])\n",
    "        for action in actions[1:]:\n",
    "            value = self.expected_value_for_action(s, action)\n",
    "            if value > best_value:\n",
    "                best_action = action\n",
    "                best_value = value\n",
    "        return best_action\n",
    "\n",
    "    def expected_value_for_action(self, s, action):\n",
    "        expected_value = 0\n",
    "        for s_prime in range(self.env.num_states()):\n",
    "            transition_prob = self.env.p(s, action, s_prime, action)\n",
    "            reward = self.env.reward(s_prime)\n",
    "            expected_value += transition_prob * (reward + self.gamma * self.value_function[s_prime])\n",
    "        return expected_value"
   ],
   "outputs": [],
   "execution_count": 3
  },
  {
   "cell_type": "code",
   "id": "3aec04bbeacf9574",
   "metadata": {
    "ExecuteTime": {
     "end_time": "2024-07-24T13:38:07.257082Z",
     "start_time": "2024-07-24T13:38:06.979806Z"
    }
   },
   "source": [
    "env = LineWorld()\n",
    "policy_iteration = PolicyIteration(env)\n",
    "policy, value_function = policy_iteration.policy_iteration()\n",
    "print(\"Politique optimale : \", policy)\n",
    "print(\"Fonction de valeur optimale : \", value_function)"
   ],
   "outputs": [
    {
     "ename": "TypeError",
     "evalue": "LineWorld.p() takes 4 positional arguments but 5 were given",
     "output_type": "error",
     "traceback": [
      "\u001B[0;31m---------------------------------------------------------------------------\u001B[0m",
      "\u001B[0;31mTypeError\u001B[0m                                 Traceback (most recent call last)",
      "Cell \u001B[0;32mIn[4], line 3\u001B[0m\n\u001B[1;32m      1\u001B[0m env \u001B[38;5;241m=\u001B[39m LineWorld()\n\u001B[1;32m      2\u001B[0m policy_iteration \u001B[38;5;241m=\u001B[39m PolicyIteration(env)\n\u001B[0;32m----> 3\u001B[0m policy, value_function \u001B[38;5;241m=\u001B[39m policy_iteration\u001B[38;5;241m.\u001B[39mpolicy_iteration()\n\u001B[1;32m      4\u001B[0m \u001B[38;5;28mprint\u001B[39m(\u001B[38;5;124m\"\u001B[39m\u001B[38;5;124mPolitique optimale : \u001B[39m\u001B[38;5;124m\"\u001B[39m, policy)\n\u001B[1;32m      5\u001B[0m \u001B[38;5;28mprint\u001B[39m(\u001B[38;5;124m\"\u001B[39m\u001B[38;5;124mFonction de valeur optimale : \u001B[39m\u001B[38;5;124m\"\u001B[39m, value_function)\n",
      "Cell \u001B[0;32mIn[3], line 12\u001B[0m, in \u001B[0;36mPolicyIteration.policy_iteration\u001B[0;34m(self)\u001B[0m\n\u001B[1;32m     10\u001B[0m \u001B[38;5;28;01mdef\u001B[39;00m \u001B[38;5;21mpolicy_iteration\u001B[39m(\u001B[38;5;28mself\u001B[39m):\n\u001B[1;32m     11\u001B[0m     \u001B[38;5;28;01mfor\u001B[39;00m _ \u001B[38;5;129;01min\u001B[39;00m \u001B[38;5;28mrange\u001B[39m(\u001B[38;5;28mself\u001B[39m\u001B[38;5;241m.\u001B[39mmax_iter):\n\u001B[0;32m---> 12\u001B[0m         \u001B[38;5;28mself\u001B[39m\u001B[38;5;241m.\u001B[39mvalue_function \u001B[38;5;241m=\u001B[39m \u001B[38;5;28mself\u001B[39m\u001B[38;5;241m.\u001B[39mpolicy_evaluation()\n\u001B[1;32m     14\u001B[0m         policy_stable \u001B[38;5;241m=\u001B[39m \u001B[38;5;28;01mTrue\u001B[39;00m\n\u001B[1;32m     15\u001B[0m         \u001B[38;5;28;01mfor\u001B[39;00m s \u001B[38;5;129;01min\u001B[39;00m \u001B[38;5;28mrange\u001B[39m(\u001B[38;5;28mself\u001B[39m\u001B[38;5;241m.\u001B[39menv\u001B[38;5;241m.\u001B[39mnum_states()):\n",
      "Cell \u001B[0;32mIn[3], line 32\u001B[0m, in \u001B[0;36mPolicyIteration.policy_evaluation\u001B[0;34m(self)\u001B[0m\n\u001B[1;32m     30\u001B[0m \u001B[38;5;28;01mfor\u001B[39;00m s \u001B[38;5;129;01min\u001B[39;00m \u001B[38;5;28mrange\u001B[39m(\u001B[38;5;28mself\u001B[39m\u001B[38;5;241m.\u001B[39menv\u001B[38;5;241m.\u001B[39mnum_states()):\n\u001B[1;32m     31\u001B[0m     v \u001B[38;5;241m=\u001B[39m value_function[s]\n\u001B[0;32m---> 32\u001B[0m     value_function[s] \u001B[38;5;241m=\u001B[39m \u001B[38;5;28mself\u001B[39m\u001B[38;5;241m.\u001B[39mexpected_value(s)\n\u001B[1;32m     33\u001B[0m     delta \u001B[38;5;241m=\u001B[39m \u001B[38;5;28mmax\u001B[39m(delta, \u001B[38;5;28mabs\u001B[39m(v \u001B[38;5;241m-\u001B[39m value_function[s]))\n\u001B[1;32m     34\u001B[0m \u001B[38;5;28;01mif\u001B[39;00m delta \u001B[38;5;241m<\u001B[39m \u001B[38;5;28mself\u001B[39m\u001B[38;5;241m.\u001B[39mtheta:\n",
      "Cell \u001B[0;32mIn[3], line 43\u001B[0m, in \u001B[0;36mPolicyIteration.expected_value\u001B[0;34m(self, s)\u001B[0m\n\u001B[1;32m     41\u001B[0m expected_value \u001B[38;5;241m=\u001B[39m \u001B[38;5;241m0\u001B[39m\n\u001B[1;32m     42\u001B[0m \u001B[38;5;28;01mfor\u001B[39;00m s_prime \u001B[38;5;129;01min\u001B[39;00m \u001B[38;5;28mrange\u001B[39m(\u001B[38;5;28mself\u001B[39m\u001B[38;5;241m.\u001B[39menv\u001B[38;5;241m.\u001B[39mnum_states()):\n\u001B[0;32m---> 43\u001B[0m     transition_prob \u001B[38;5;241m=\u001B[39m \u001B[38;5;28mself\u001B[39m\u001B[38;5;241m.\u001B[39menv\u001B[38;5;241m.\u001B[39mp(s, action, s_prime, action)\n\u001B[1;32m     44\u001B[0m     reward \u001B[38;5;241m=\u001B[39m \u001B[38;5;28mself\u001B[39m\u001B[38;5;241m.\u001B[39menv\u001B[38;5;241m.\u001B[39mreward(s_prime)\n\u001B[1;32m     45\u001B[0m     expected_value \u001B[38;5;241m+\u001B[39m\u001B[38;5;241m=\u001B[39m transition_prob \u001B[38;5;241m*\u001B[39m (reward \u001B[38;5;241m+\u001B[39m \u001B[38;5;28mself\u001B[39m\u001B[38;5;241m.\u001B[39mgamma \u001B[38;5;241m*\u001B[39m \u001B[38;5;28mself\u001B[39m\u001B[38;5;241m.\u001B[39mvalue_function[s_prime])\n",
      "\u001B[0;31mTypeError\u001B[0m: LineWorld.p() takes 4 positional arguments but 5 were given"
     ]
    }
   ],
   "execution_count": 4
  }
 ],
 "metadata": {
  "kernelspec": {
   "display_name": "Python 3",
   "language": "python",
   "name": "python3"
  },
  "language_info": {
   "codemirror_mode": {
    "name": "ipython",
    "version": 3
   },
   "file_extension": ".py",
   "mimetype": "text/x-python",
   "name": "python",
   "nbconvert_exporter": "python",
   "pygments_lexer": "ipython3",
   "version": "3.11.5"
  }
 },
 "nbformat": 4,
 "nbformat_minor": 5
}
