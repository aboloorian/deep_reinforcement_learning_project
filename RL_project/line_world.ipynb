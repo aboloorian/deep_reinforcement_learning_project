{
 "cells": [
  {
   "cell_type": "code",
   "execution_count": 1,
   "id": "8bc3add876815d3e",
   "metadata": {
    "ExecuteTime": {
     "end_time": "2024-07-24T13:14:16.641939Z",
     "start_time": "2024-07-24T13:14:16.638878Z"
    }
   },
   "outputs": [],
   "source": [
    "import numpy as np"
   ]
  },
  {
   "cell_type": "code",
   "execution_count": 2,
   "id": "initial_id",
   "metadata": {
    "ExecuteTime": {
     "end_time": "2024-07-24T13:14:16.676490Z",
     "start_time": "2024-07-24T13:14:16.668165Z"
    },
    "collapsed": true
   },
   "outputs": [],
   "source": [
    "class LineWorld:\n",
    "    def __init__(self):\n",
    "        self.grid = np.arange(13)\n",
    "        self.states = self.grid.size\n",
    "        self.actions = 2\n",
    "        self.state = 6\n",
    "        self.forbidden = 0\n",
    "        self.game_over = False\n",
    "        self.rewards = np.zeros(self.states)\n",
    "        self.rewards[3] = 1  # Setting a reward of 1 for reaching state 3\n",
    "        \n",
    "        # transitions array (s, a, s')\n",
    "        self.transitions = np.zeros((self.states, self.actions, self.states))\n",
    "        for s in range(self.states):\n",
    "            if s > 0:\n",
    "                self.transitions[s, 0, s-1] = 0.9\n",
    "                self.transitions[s, 0, s] = 0.1\n",
    "            if s < self.states - 1:\n",
    "                self.transitions[s, 1, s+1] = 0.9\n",
    "                self.transitions[s, 1, s] = 0.1\n",
    "\n",
    "    def num_states(self) -> int:\n",
    "        return self.grid.size\n",
    "\n",
    "    def num_actions(self) -> int:\n",
    "        return self.actions\n",
    "\n",
    "    def num_rewards(self) -> int:\n",
    "        return self.rewards.size\n",
    "\n",
    "    def reward(self, i: int) -> float:\n",
    "        return self.rewards[i]\n",
    "\n",
    "    def p(self, s: int, a: int, s_p: int) -> float:\n",
    "        return self.transitions[s, a, s_p]\n",
    "\n",
    "    def state_id(self) -> int:\n",
    "        return self.state\n",
    "\n",
    "    def reset(self):\n",
    "        self.state = 6\n",
    "        self.forbidden = 0\n",
    "        self.game_over = False\n",
    "\n",
    "    def display(self):\n",
    "        print(f\"State: {self.state}\")\n",
    "\n",
    "    def is_forbidden(self, action: int) -> int:\n",
    "        return self.forbidden\n",
    "\n",
    "    def is_game_over(self) -> bool:\n",
    "        return self.game_over\n",
    "\n",
    "    def available_actions(self) -> np.ndarray:\n",
    "        return np.array([0, 1])\n",
    "\n",
    "    def step(self, action: int):\n",
    "        if self.game_over:\n",
    "            raise ValueError(\"Game is over\")\n",
    "        if self.is_forbidden(action):\n",
    "            raise ValueError(\"Forbidden action\")\n",
    "        next_state = np.random.choice(np.arange(self.states), p=self.transitions[self.state, action])\n",
    "        reward = self.rewards[next_state]\n",
    "        self.state = next_state\n",
    "        self.game_over = self.state == 3\n",
    "        return self.state, reward, self.game_over, {}\n",
    "\n",
    "    def score(self):\n",
    "        return self.rewards[self.state]\n",
    "\n",
    "    def is_terminal(self, state):\n",
    "        return state == 12"
   ]
  },
  {
   "cell_type": "code",
   "execution_count": 3,
   "id": "95b773abcd4aa2fb",
   "metadata": {
    "ExecuteTime": {
     "end_time": "2024-07-24T13:14:16.704180Z",
     "start_time": "2024-07-24T13:14:16.697948Z"
    }
   },
   "outputs": [],
   "source": [
    "class PolicyIteration:\n",
    "    def __init__(self, env, gamma=0.9, theta=0.001, max_iter=1000):\n",
    "        self.env = env\n",
    "        self.gamma = gamma\n",
    "        self.theta = theta \n",
    "        self.max_iter = max_iter\n",
    "        self.policy = np.zeros(self.env.num_states(), dtype=int)\n",
    "        self.value_function = np.zeros(self.env.num_states())\n",
    "\n",
    "    def policy_iteration(self):\n",
    "        for _ in range(self.max_iter):\n",
    "            self.value_function = self.policy_evaluation()\n",
    "\n",
    "            policy_stable = True\n",
    "            for s in range(self.env.num_states()):\n",
    "                old_action = self.policy[s]\n",
    "                self.policy[s] = self.greedy_policy(s)\n",
    "                if old_action != self.policy[s]:\n",
    "                    policy_stable = False\n",
    "\n",
    "            if policy_stable:\n",
    "                break\n",
    "\n",
    "        return self.policy, self.value_function\n",
    "\n",
    "    def policy_evaluation(self):\n",
    "        value_function = np.zeros(self.env.num_states())\n",
    "        for _ in range(self.max_iter):\n",
    "            delta = 0\n",
    "            for s in range(self.env.num_states()):\n",
    "                v = value_function[s]\n",
    "                value_function[s] = self.expected_value(s)\n",
    "                delta = max(delta, abs(v - value_function[s]))\n",
    "            if delta < self.theta:\n",
    "                break\n",
    "        self.value_function = value_function\n",
    "        return value_function\n",
    "\n",
    "    def expected_value(self, s):\n",
    "        action = self.policy[s]\n",
    "        expected_value = 0\n",
    "        for s_prime in range(self.env.num_states()):\n",
    "            transition_prob = self.env.p(s, action, s_prime)\n",
    "            reward = self.env.reward(s_prime)\n",
    "            expected_value += transition_prob * (reward + self.gamma * self.value_function[s_prime])\n",
    "        return expected_value\n",
    "\n",
    "    def greedy_policy(self, s):\n",
    "        actions = self.env.available_actions()\n",
    "        best_action = actions[0]\n",
    "        best_value = self.expected_value_for_action(s, actions[0])\n",
    "        for action in actions[1:]:\n",
    "            value = self.expected_value_for_action(s, action)\n",
    "            if value > best_value:\n",
    "                best_action = action\n",
    "                best_value = value\n",
    "        return best_action\n",
    "    \n",
    "    def expected_value_for_action(self, s, action):\n",
    "        expected_value = 0\n",
    "        for s_prime in range(self.env.num_states()):\n",
    "            transition_prob = self.env.p(s, action, s_prime)\n",
    "            reward = self.env.reward(s_prime)\n",
    "            expected_value += transition_prob * (reward + self.gamma * self.value_function[s_prime])\n",
    "        return expected_value"
   ]
  },
  {
   "cell_type": "code",
   "execution_count": 4,
   "id": "3aec04bbeacf9574",
   "metadata": {
    "ExecuteTime": {
     "end_time": "2024-07-24T13:14:16.717389Z",
     "start_time": "2024-07-24T13:14:16.713193Z"
    }
   },
   "outputs": [
    {
     "name": "stdout",
     "output_type": "stream",
     "text": [
      "Politique optimale :  [1 1 1 1 0 0 0 0 0 0 0 0 0]\n",
      "Fonction de valeur optimale :  [0.6436341 1.4218416 1.8889047 1.5494392 1.8895608 1.4395563 0.8030664\n",
      " 0.4782969 0.        0.        0.        0.        0.       ]\n"
     ]
    }
   ],
   "source": [
    "env = LineWorld()\n",
    "policy_iteration = PolicyIteration(env)\n",
    "policy, value_function = policy_iteration.policy_iteration()\n",
    "print(\"Politique optimale : \", policy)\n",
    "print(\"Fonction de valeur optimale : \", value_function)"
   ]
  }
 ],
 "metadata": {
  "kernelspec": {
   "display_name": "Python 3",
   "language": "python",
   "name": "python3"
  },
  "language_info": {
   "codemirror_mode": {
    "name": "ipython",
    "version": 3
   },
   "file_extension": ".py",
   "mimetype": "text/x-python",
   "name": "python",
   "nbconvert_exporter": "python",
   "pygments_lexer": "ipython3",
   "version": "3.11.5"
  }
 },
 "nbformat": 4,
 "nbformat_minor": 5
}
